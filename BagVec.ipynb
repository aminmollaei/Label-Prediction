{
  "nbformat": 4,
  "nbformat_minor": 0,
  "metadata": {
    "colab": {
      "name": "Hosh_Final_BagVec.ipynb",
      "provenance": [],
      "collapsed_sections": []
    },
    "kernelspec": {
      "name": "python3",
      "display_name": "Python 3"
    },
    "language_info": {
      "name": "python"
    }
  },
  "cells": [
    {
      "cell_type": "code",
      "execution_count": 1,
      "metadata": {
        "id": "6yycrMxqOSxG"
      },
      "outputs": [],
      "source": [
        "from sklearn.feature_extraction.text import TfidfVectorizer\n",
        "import pandas as pd"
      ]
    },
    {
      "cell_type": "code",
      "source": [
        "df_train = pd.read_csv('train.csv').dropna()\n",
        "display(df_train.head())\n",
        "df_test = pd.read_csv('test.csv').dropna()\n",
        "df_test.head()"
      ],
      "metadata": {
        "colab": {
          "base_uri": "https://localhost:8080/",
          "height": 395
        },
        "id": "AISQchi1PMnr",
        "outputId": "bb3a69ce-75b2-4209-ebef-005126a28c81"
      },
      "execution_count": 2,
      "outputs": [
        {
          "output_type": "display_data",
          "data": {
            "text/plain": [
              "       Id                                            Comment      Topic\n",
              "0   0x840  A few things. You might have negative- frequen...    Biology\n",
              "1   0xbf0  Is it so hard to believe that there exist part...    Physics\n",
              "2  0x1dfc                                     There are bees    Biology\n",
              "3   0xc7e  I'm a medication technician. And that's alot o...    Biology\n",
              "4   0xbba                     Cesium is such a pretty metal.  Chemistry"
            ],
            "text/html": [
              "\n",
              "  <div id=\"df-2b5b4911-ed58-429d-9484-9479ebfde013\">\n",
              "    <div class=\"colab-df-container\">\n",
              "      <div>\n",
              "<style scoped>\n",
              "    .dataframe tbody tr th:only-of-type {\n",
              "        vertical-align: middle;\n",
              "    }\n",
              "\n",
              "    .dataframe tbody tr th {\n",
              "        vertical-align: top;\n",
              "    }\n",
              "\n",
              "    .dataframe thead th {\n",
              "        text-align: right;\n",
              "    }\n",
              "</style>\n",
              "<table border=\"1\" class=\"dataframe\">\n",
              "  <thead>\n",
              "    <tr style=\"text-align: right;\">\n",
              "      <th></th>\n",
              "      <th>Id</th>\n",
              "      <th>Comment</th>\n",
              "      <th>Topic</th>\n",
              "    </tr>\n",
              "  </thead>\n",
              "  <tbody>\n",
              "    <tr>\n",
              "      <th>0</th>\n",
              "      <td>0x840</td>\n",
              "      <td>A few things. You might have negative- frequen...</td>\n",
              "      <td>Biology</td>\n",
              "    </tr>\n",
              "    <tr>\n",
              "      <th>1</th>\n",
              "      <td>0xbf0</td>\n",
              "      <td>Is it so hard to believe that there exist part...</td>\n",
              "      <td>Physics</td>\n",
              "    </tr>\n",
              "    <tr>\n",
              "      <th>2</th>\n",
              "      <td>0x1dfc</td>\n",
              "      <td>There are bees</td>\n",
              "      <td>Biology</td>\n",
              "    </tr>\n",
              "    <tr>\n",
              "      <th>3</th>\n",
              "      <td>0xc7e</td>\n",
              "      <td>I'm a medication technician. And that's alot o...</td>\n",
              "      <td>Biology</td>\n",
              "    </tr>\n",
              "    <tr>\n",
              "      <th>4</th>\n",
              "      <td>0xbba</td>\n",
              "      <td>Cesium is such a pretty metal.</td>\n",
              "      <td>Chemistry</td>\n",
              "    </tr>\n",
              "  </tbody>\n",
              "</table>\n",
              "</div>\n",
              "      <button class=\"colab-df-convert\" onclick=\"convertToInteractive('df-2b5b4911-ed58-429d-9484-9479ebfde013')\"\n",
              "              title=\"Convert this dataframe to an interactive table.\"\n",
              "              style=\"display:none;\">\n",
              "        \n",
              "  <svg xmlns=\"http://www.w3.org/2000/svg\" height=\"24px\"viewBox=\"0 0 24 24\"\n",
              "       width=\"24px\">\n",
              "    <path d=\"M0 0h24v24H0V0z\" fill=\"none\"/>\n",
              "    <path d=\"M18.56 5.44l.94 2.06.94-2.06 2.06-.94-2.06-.94-.94-2.06-.94 2.06-2.06.94zm-11 1L8.5 8.5l.94-2.06 2.06-.94-2.06-.94L8.5 2.5l-.94 2.06-2.06.94zm10 10l.94 2.06.94-2.06 2.06-.94-2.06-.94-.94-2.06-.94 2.06-2.06.94z\"/><path d=\"M17.41 7.96l-1.37-1.37c-.4-.4-.92-.59-1.43-.59-.52 0-1.04.2-1.43.59L10.3 9.45l-7.72 7.72c-.78.78-.78 2.05 0 2.83L4 21.41c.39.39.9.59 1.41.59.51 0 1.02-.2 1.41-.59l7.78-7.78 2.81-2.81c.8-.78.8-2.07 0-2.86zM5.41 20L4 18.59l7.72-7.72 1.47 1.35L5.41 20z\"/>\n",
              "  </svg>\n",
              "      </button>\n",
              "      \n",
              "  <style>\n",
              "    .colab-df-container {\n",
              "      display:flex;\n",
              "      flex-wrap:wrap;\n",
              "      gap: 12px;\n",
              "    }\n",
              "\n",
              "    .colab-df-convert {\n",
              "      background-color: #E8F0FE;\n",
              "      border: none;\n",
              "      border-radius: 50%;\n",
              "      cursor: pointer;\n",
              "      display: none;\n",
              "      fill: #1967D2;\n",
              "      height: 32px;\n",
              "      padding: 0 0 0 0;\n",
              "      width: 32px;\n",
              "    }\n",
              "\n",
              "    .colab-df-convert:hover {\n",
              "      background-color: #E2EBFA;\n",
              "      box-shadow: 0px 1px 2px rgba(60, 64, 67, 0.3), 0px 1px 3px 1px rgba(60, 64, 67, 0.15);\n",
              "      fill: #174EA6;\n",
              "    }\n",
              "\n",
              "    [theme=dark] .colab-df-convert {\n",
              "      background-color: #3B4455;\n",
              "      fill: #D2E3FC;\n",
              "    }\n",
              "\n",
              "    [theme=dark] .colab-df-convert:hover {\n",
              "      background-color: #434B5C;\n",
              "      box-shadow: 0px 1px 3px 1px rgba(0, 0, 0, 0.15);\n",
              "      filter: drop-shadow(0px 1px 2px rgba(0, 0, 0, 0.3));\n",
              "      fill: #FFFFFF;\n",
              "    }\n",
              "  </style>\n",
              "\n",
              "      <script>\n",
              "        const buttonEl =\n",
              "          document.querySelector('#df-2b5b4911-ed58-429d-9484-9479ebfde013 button.colab-df-convert');\n",
              "        buttonEl.style.display =\n",
              "          google.colab.kernel.accessAllowed ? 'block' : 'none';\n",
              "\n",
              "        async function convertToInteractive(key) {\n",
              "          const element = document.querySelector('#df-2b5b4911-ed58-429d-9484-9479ebfde013');\n",
              "          const dataTable =\n",
              "            await google.colab.kernel.invokeFunction('convertToInteractive',\n",
              "                                                     [key], {});\n",
              "          if (!dataTable) return;\n",
              "\n",
              "          const docLinkHtml = 'Like what you see? Visit the ' +\n",
              "            '<a target=\"_blank\" href=https://colab.research.google.com/notebooks/data_table.ipynb>data table notebook</a>'\n",
              "            + ' to learn more about interactive tables.';\n",
              "          element.innerHTML = '';\n",
              "          dataTable['output_type'] = 'display_data';\n",
              "          await google.colab.output.renderOutput(dataTable, element);\n",
              "          const docLink = document.createElement('div');\n",
              "          docLink.innerHTML = docLinkHtml;\n",
              "          element.appendChild(docLink);\n",
              "        }\n",
              "      </script>\n",
              "    </div>\n",
              "  </div>\n",
              "  "
            ]
          },
          "metadata": {}
        },
        {
          "output_type": "execute_result",
          "data": {
            "text/plain": [
              "       Id                                            Comment      Topic\n",
              "0  0x1aa9  Personally I have no idea what my IQ is. I’ve ...    Biology\n",
              "1   0x25e  I'm skeptical. A heavier lid would be needed t...    Physics\n",
              "2  0x1248  I think I have 100 cm of books on the subject....    Biology\n",
              "3   0x2b9  Is chemistry hard in uni. Ive read somewhere t...  Chemistry\n",
              "4  0x24af  In addition to the other comment, you can crit...    Physics"
            ],
            "text/html": [
              "\n",
              "  <div id=\"df-8a708189-1d01-4640-9c2c-600e45d0ffea\">\n",
              "    <div class=\"colab-df-container\">\n",
              "      <div>\n",
              "<style scoped>\n",
              "    .dataframe tbody tr th:only-of-type {\n",
              "        vertical-align: middle;\n",
              "    }\n",
              "\n",
              "    .dataframe tbody tr th {\n",
              "        vertical-align: top;\n",
              "    }\n",
              "\n",
              "    .dataframe thead th {\n",
              "        text-align: right;\n",
              "    }\n",
              "</style>\n",
              "<table border=\"1\" class=\"dataframe\">\n",
              "  <thead>\n",
              "    <tr style=\"text-align: right;\">\n",
              "      <th></th>\n",
              "      <th>Id</th>\n",
              "      <th>Comment</th>\n",
              "      <th>Topic</th>\n",
              "    </tr>\n",
              "  </thead>\n",
              "  <tbody>\n",
              "    <tr>\n",
              "      <th>0</th>\n",
              "      <td>0x1aa9</td>\n",
              "      <td>Personally I have no idea what my IQ is. I’ve ...</td>\n",
              "      <td>Biology</td>\n",
              "    </tr>\n",
              "    <tr>\n",
              "      <th>1</th>\n",
              "      <td>0x25e</td>\n",
              "      <td>I'm skeptical. A heavier lid would be needed t...</td>\n",
              "      <td>Physics</td>\n",
              "    </tr>\n",
              "    <tr>\n",
              "      <th>2</th>\n",
              "      <td>0x1248</td>\n",
              "      <td>I think I have 100 cm of books on the subject....</td>\n",
              "      <td>Biology</td>\n",
              "    </tr>\n",
              "    <tr>\n",
              "      <th>3</th>\n",
              "      <td>0x2b9</td>\n",
              "      <td>Is chemistry hard in uni. Ive read somewhere t...</td>\n",
              "      <td>Chemistry</td>\n",
              "    </tr>\n",
              "    <tr>\n",
              "      <th>4</th>\n",
              "      <td>0x24af</td>\n",
              "      <td>In addition to the other comment, you can crit...</td>\n",
              "      <td>Physics</td>\n",
              "    </tr>\n",
              "  </tbody>\n",
              "</table>\n",
              "</div>\n",
              "      <button class=\"colab-df-convert\" onclick=\"convertToInteractive('df-8a708189-1d01-4640-9c2c-600e45d0ffea')\"\n",
              "              title=\"Convert this dataframe to an interactive table.\"\n",
              "              style=\"display:none;\">\n",
              "        \n",
              "  <svg xmlns=\"http://www.w3.org/2000/svg\" height=\"24px\"viewBox=\"0 0 24 24\"\n",
              "       width=\"24px\">\n",
              "    <path d=\"M0 0h24v24H0V0z\" fill=\"none\"/>\n",
              "    <path d=\"M18.56 5.44l.94 2.06.94-2.06 2.06-.94-2.06-.94-.94-2.06-.94 2.06-2.06.94zm-11 1L8.5 8.5l.94-2.06 2.06-.94-2.06-.94L8.5 2.5l-.94 2.06-2.06.94zm10 10l.94 2.06.94-2.06 2.06-.94-2.06-.94-.94-2.06-.94 2.06-2.06.94z\"/><path d=\"M17.41 7.96l-1.37-1.37c-.4-.4-.92-.59-1.43-.59-.52 0-1.04.2-1.43.59L10.3 9.45l-7.72 7.72c-.78.78-.78 2.05 0 2.83L4 21.41c.39.39.9.59 1.41.59.51 0 1.02-.2 1.41-.59l7.78-7.78 2.81-2.81c.8-.78.8-2.07 0-2.86zM5.41 20L4 18.59l7.72-7.72 1.47 1.35L5.41 20z\"/>\n",
              "  </svg>\n",
              "      </button>\n",
              "      \n",
              "  <style>\n",
              "    .colab-df-container {\n",
              "      display:flex;\n",
              "      flex-wrap:wrap;\n",
              "      gap: 12px;\n",
              "    }\n",
              "\n",
              "    .colab-df-convert {\n",
              "      background-color: #E8F0FE;\n",
              "      border: none;\n",
              "      border-radius: 50%;\n",
              "      cursor: pointer;\n",
              "      display: none;\n",
              "      fill: #1967D2;\n",
              "      height: 32px;\n",
              "      padding: 0 0 0 0;\n",
              "      width: 32px;\n",
              "    }\n",
              "\n",
              "    .colab-df-convert:hover {\n",
              "      background-color: #E2EBFA;\n",
              "      box-shadow: 0px 1px 2px rgba(60, 64, 67, 0.3), 0px 1px 3px 1px rgba(60, 64, 67, 0.15);\n",
              "      fill: #174EA6;\n",
              "    }\n",
              "\n",
              "    [theme=dark] .colab-df-convert {\n",
              "      background-color: #3B4455;\n",
              "      fill: #D2E3FC;\n",
              "    }\n",
              "\n",
              "    [theme=dark] .colab-df-convert:hover {\n",
              "      background-color: #434B5C;\n",
              "      box-shadow: 0px 1px 3px 1px rgba(0, 0, 0, 0.15);\n",
              "      filter: drop-shadow(0px 1px 2px rgba(0, 0, 0, 0.3));\n",
              "      fill: #FFFFFF;\n",
              "    }\n",
              "  </style>\n",
              "\n",
              "      <script>\n",
              "        const buttonEl =\n",
              "          document.querySelector('#df-8a708189-1d01-4640-9c2c-600e45d0ffea button.colab-df-convert');\n",
              "        buttonEl.style.display =\n",
              "          google.colab.kernel.accessAllowed ? 'block' : 'none';\n",
              "\n",
              "        async function convertToInteractive(key) {\n",
              "          const element = document.querySelector('#df-8a708189-1d01-4640-9c2c-600e45d0ffea');\n",
              "          const dataTable =\n",
              "            await google.colab.kernel.invokeFunction('convertToInteractive',\n",
              "                                                     [key], {});\n",
              "          if (!dataTable) return;\n",
              "\n",
              "          const docLinkHtml = 'Like what you see? Visit the ' +\n",
              "            '<a target=\"_blank\" href=https://colab.research.google.com/notebooks/data_table.ipynb>data table notebook</a>'\n",
              "            + ' to learn more about interactive tables.';\n",
              "          element.innerHTML = '';\n",
              "          dataTable['output_type'] = 'display_data';\n",
              "          await google.colab.output.renderOutput(dataTable, element);\n",
              "          const docLink = document.createElement('div');\n",
              "          docLink.innerHTML = docLinkHtml;\n",
              "          element.appendChild(docLink);\n",
              "        }\n",
              "      </script>\n",
              "    </div>\n",
              "  </div>\n",
              "  "
            ]
          },
          "metadata": {},
          "execution_count": 2
        }
      ]
    },
    {
      "cell_type": "code",
      "source": [
        "comments_train = df_train['Comment'].to_numpy()\n",
        "print(comments_train[:2])\n",
        "topics_train = df_train['Topic'].to_numpy()\n",
        "topics_train[:2]\n",
        "del df_train"
      ],
      "metadata": {
        "colab": {
          "base_uri": "https://localhost:8080/"
        },
        "id": "atxiRhCJaX_N",
        "outputId": "d58a811f-bfad-4645-bc2a-a9558bd2e4e3"
      },
      "execution_count": 3,
      "outputs": [
        {
          "output_type": "stream",
          "name": "stdout",
          "text": [
            "['A few things. You might have negative- frequency dependent selection going on where the least common phenotype, reflected by genotype, is going to have an advantage in the environment. For instance, if a prey animal such as a vole were to have a light and a dark phenotype, a predator might recognize the more common phenotype as food.  So if the light voles are more common, foxes may be keeping a closer eye out for light phenotypic voles, recognising them as good prey. This would reduce the light causing alleles due to increased predation and the dark genotypes would increase their proportion of the population until this scenario is reversed. This cycle continues perpetually. \\\\n\\\\nHowever, this is unlikely to be strictly yearly as it usually takes more time than a year for an entire populations allele frequencies to change enough to make a large enough difference to alter fitness. \\\\n\\\\nMore likely on a *year to year* basis, the population is experiencing fluctuating selection where alternating conditions in the environment favor one genotype over another. Perhaps a plant species is living in an area that is flooded every other year and the two phenotypes in the population are plants that do much better in the dryer year and one that does better in the wet year. If there is no flooding, the dry-type genotype will have more fitness leading to more offspring and therefore more dry alleles in the population, however, in flooded years the wet-liking phenotype will do better and propagate the wet genes.'\n",
            " \"Is it so hard to believe that there exist particulars out that that we can't detect with anything we've invented so far.\\\\n\\\\nI mean look how long it took humans to find out a way to detect radiation.\"]\n"
          ]
        }
      ]
    },
    {
      "cell_type": "code",
      "source": [
        "comments_test = df_test['Comment'].to_numpy()\n",
        "print(comments_test[:2])\n",
        "topics_test = df_test['Topic'].to_numpy()\n",
        "topics_test[:2]\n",
        "del df_test"
      ],
      "metadata": {
        "colab": {
          "base_uri": "https://localhost:8080/"
        },
        "id": "LW7Ibn16jjR1",
        "outputId": "9f05d954-6046-46d5-8c31-80a431ea05a6"
      },
      "execution_count": 4,
      "outputs": [
        {
          "output_type": "stream",
          "name": "stdout",
          "text": [
            "['Personally I have no idea what my IQ is. I’ve never been tested. However, the test is an outdated, inaccurate, inappropriate measuring tool that has been largely abandoned by actual science. Only Mensa cares and their members tend to be insufferable misogynistic and racist assholes. So. Ya know. Go off I guess?'\n",
            " \"I'm skeptical. A heavier lid would be needed to build pressure, while a lighter lid is needed to move a lot with the release of pressure. I feel like I am missing something here.\"]\n"
          ]
        }
      ]
    },
    {
      "cell_type": "code",
      "source": [
        "import numpy as np\n",
        "import nltk\n",
        "from nltk.corpus import stopwords\n",
        "nltk.download('punkt')\n",
        "nltk.download('stopwords')\n",
        "stopwords = nltk.corpus.stopwords.words('english')\n",
        "\n",
        "from nltk.tokenize import word_tokenize\n",
        "\n",
        "def trim_data(comments):\n",
        "  trimmed_comments = []\n",
        "  for comment in comments:\n",
        "    comment = comment.lower()\n",
        "    tokens = word_tokenize(comment)\n",
        "    comment = [word for word in tokens if not word in set(stopwords)]\n",
        "    comment = ' '.join(comment)\n",
        "    trimmed_comments.append(comment)\n",
        "  return trimmed_comments"
      ],
      "metadata": {
        "colab": {
          "base_uri": "https://localhost:8080/"
        },
        "id": "65cIzjqRY5ef",
        "outputId": "0351782c-a94e-4501-c763-c21b4021da50"
      },
      "execution_count": 5,
      "outputs": [
        {
          "output_type": "stream",
          "name": "stderr",
          "text": [
            "[nltk_data] Downloading package punkt to /root/nltk_data...\n",
            "[nltk_data]   Package punkt is already up-to-date!\n",
            "[nltk_data] Downloading package stopwords to /root/nltk_data...\n",
            "[nltk_data]   Package stopwords is already up-to-date!\n"
          ]
        }
      ]
    },
    {
      "cell_type": "code",
      "source": [
        "trimmed_comments_train = trim_data(comments_train)\n",
        "trimmed_comments_train = np.array(trimmed_comments_train)\n",
        "print(trimmed_comments_train[:2])"
      ],
      "metadata": {
        "colab": {
          "base_uri": "https://localhost:8080/"
        },
        "id": "zj_c58Wqk1Mo",
        "outputId": "7699f7ba-e4d5-4e9f-e29c-0f96fdfce2a3"
      },
      "execution_count": 6,
      "outputs": [
        {
          "output_type": "stream",
          "name": "stdout",
          "text": [
            "['things . might negative- frequency dependent selection going least common phenotype , reflected genotype , going advantage environment . instance , prey animal vole light dark phenotype , predator might recognize common phenotype food . light voles common , foxes may keeping closer eye light phenotypic voles , recognising good prey . would reduce light causing alleles due increased predation dark genotypes would increase proportion population scenario reversed . cycle continues perpetually . \\\\n\\\\nhowever , unlikely strictly yearly usually takes time year entire populations allele frequencies change enough make large enough difference alter fitness . \\\\n\\\\nmore likely * year year * basis , population experiencing fluctuating selection alternating conditions environment favor one genotype another . perhaps plant species living area flooded every year two phenotypes population plants much better dryer year one better wet year . flooding , dry-type genotype fitness leading offspring therefore dry alleles population , however , flooded years wet-liking phenotype better propagate wet genes .'\n",
            " \"hard believe exist particulars ca n't detect anything 've invented far.\\\\n\\\\ni mean look long took humans find way detect radiation .\"]\n"
          ]
        }
      ]
    },
    {
      "cell_type": "code",
      "source": [
        "from nltk.tokenize import sent_tokenize, word_tokenize\n",
        "from gensim.models import Word2Vec\n",
        "import warnings\n",
        "warnings.filterwarnings(action = 'ignore')\n",
        "\n",
        "\n",
        "comments_expded = ''\n",
        "for i in range(len(trimmed_comments_train)):\n",
        "  replacement = ' ' + topics_train[i] + ' '\n",
        "  comments_expded += trimmed_comments_train[i].replace(' ', replacement)\n",
        "print(len(comments_expded))\n",
        "\n",
        "data = []\n",
        "for sent in sent_tokenize(comments_expded):\n",
        "    temp = []\n",
        "     \n",
        "    for word in word_tokenize(sent):\n",
        "        temp.append(word)\n",
        "    # temp = np.array(temp)\n",
        "    data.append(temp)\n",
        "\n",
        "# data = np.array(data)\n",
        "# print(data)\n",
        "word2vec = Word2Vec(data)"
      ],
      "metadata": {
        "id": "q2pMkaVgYAI9",
        "colab": {
          "base_uri": "https://localhost:8080/"
        },
        "outputId": "5e677b6e-966e-4199-d7e5-99fd4bc2da2f"
      },
      "execution_count": 7,
      "outputs": [
        {
          "output_type": "stream",
          "name": "stdout",
          "text": [
            "2482306\n"
          ]
        }
      ]
    },
    {
      "cell_type": "code",
      "source": [
        "print(word2vec.wv.similarity('radiation', 'Chemistry'))\n",
        "print(word2vec.wv.similarity('radiation', 'Biology'))\n",
        "print(word2vec.wv.similarity('radiation', 'Physics'))"
      ],
      "metadata": {
        "colab": {
          "base_uri": "https://localhost:8080/"
        },
        "id": "g0AihGzoYwvM",
        "outputId": "8c441215-98fc-4839-944c-0f8763b655c9"
      },
      "execution_count": 8,
      "outputs": [
        {
          "output_type": "stream",
          "name": "stdout",
          "text": [
            "0.17754352\n",
            "0.2700464\n",
            "0.40304804\n"
          ]
        }
      ]
    },
    {
      "cell_type": "code",
      "source": [
        "trimmed_comments_test = trim_data(comments_test)\n",
        "trimmed_comments_test = np.array(trimmed_comments_test)\n",
        "print(trimmed_comments_test[:2])"
      ],
      "metadata": {
        "colab": {
          "base_uri": "https://localhost:8080/"
        },
        "id": "UdMJhILdk4UO",
        "outputId": "2cad0127-5c57-4d8f-cf38-719caa0227a9"
      },
      "execution_count": 9,
      "outputs": [
        {
          "output_type": "stream",
          "name": "stdout",
          "text": [
            "['personally idea iq . ’ never tested . however , test outdated , inaccurate , inappropriate measuring tool largely abandoned actual science . mensa cares members tend insufferable misogynistic racist assholes . . ya know . go guess ?'\n",
            " \"'m skeptical . heavier lid would needed build pressure , lighter lid needed move lot release pressure . feel like missing something .\"]\n"
          ]
        }
      ]
    },
    {
      "cell_type": "code",
      "source": [
        "tfidf = TfidfVectorizer()\n",
        "response = tfidf.fit_transform(trimmed_comments_test)\n",
        "feature_names = tfidf.get_feature_names()\n",
        "# for col in response.nonzero()[1]:\n",
        "    # print (feature_names[col], ' - ', response[0, col])\n",
        "# print(\"Feature Names n\",feature_names)\n",
        "print('Input len', len(trimmed_comments_test))\n",
        "print('Sparse Matrix len', response.shape)"
      ],
      "metadata": {
        "colab": {
          "base_uri": "https://localhost:8080/"
        },
        "id": "-Aa8vWi7PeB6",
        "outputId": "a0f946c8-c819-4e0d-db4d-7293498897f8"
      },
      "execution_count": 10,
      "outputs": [
        {
          "output_type": "stream",
          "name": "stdout",
          "text": [
            "Input len 1586\n",
            "Sparse Matrix len (1586, 11775)\n"
          ]
        }
      ]
    },
    {
      "cell_type": "code",
      "source": [
        "response = response.toarray()"
      ],
      "metadata": {
        "id": "t15peQnSlC14"
      },
      "execution_count": 11,
      "outputs": []
    },
    {
      "cell_type": "code",
      "source": [
        "test_comments = np.zeros((len(trimmed_comments_test), 3))\n",
        "\n",
        "for comment_indx, comment in enumerate(trimmed_comments_test):\n",
        "  for word in word_tokenize(comment):\n",
        "    sim = ['', '', '']\n",
        "    try:\n",
        "      index = feature_names.index(word)\n",
        "      word_tfidf = response[comment_indx, index]\n",
        "      test_comments[comment_indx][0] += word2vec.wv.similarity(word, 'Chemistry')\n",
        "      test_comments[comment_indx][1] += word2vec.wv.similarity(word, 'Biology')\n",
        "      test_comments[comment_indx][2] += word2vec.wv.similarity(word, 'Physics')\n",
        "      test_comments[comment_indx] = test_comments[comment_indx] * word_tfidf\n",
        "    except:\n",
        "      pass\n",
        "print(test_comments)"
      ],
      "metadata": {
        "colab": {
          "base_uri": "https://localhost:8080/"
        },
        "id": "4OMkkSpilx_6",
        "outputId": "5fa969ae-e6eb-45ad-95f2-1941b99abf1a"
      },
      "execution_count": 12,
      "outputs": [
        {
          "output_type": "stream",
          "name": "stdout",
          "text": [
            "[[0.03368689 0.05847032 0.04007046]\n",
            " [0.05698991 0.04642279 0.02282803]\n",
            " [0.02006182 0.02081264 0.02118429]\n",
            " ...\n",
            " [0.06068418 0.05273878 0.03974868]\n",
            " [0.03189857 0.05305875 0.08028819]\n",
            " [0.11389891 0.11356571 0.23127997]]\n"
          ]
        }
      ]
    },
    {
      "cell_type": "code",
      "source": [
        "from scipy.special import comb\n",
        "def count_of_elements(List):\n",
        "    temp = {}\n",
        "    for item in List:\n",
        "        if item in temp:\n",
        "            temp[item] += 1\n",
        "        else:\n",
        "            temp[item] = 1\n",
        "    return temp\n",
        "\n",
        "def calc_elements_in_each_cluster(element, label, predict):\n",
        "    temp = {}\n",
        "    for i in range(len(label)):\n",
        "        if label[i] == element:\n",
        "            if predict[i] in temp:\n",
        "                temp[predict[i]] += 1\n",
        "            else:\n",
        "                temp[predict[i]] = 1\n",
        "    return temp\n",
        "\n",
        "def randIndex(label, predict):\n",
        "    if len(label) != len(predict):\n",
        "        return -1\n",
        "    clusters = {}\n",
        "    N = len(label)\n",
        "        \n",
        "\n",
        "    for i in range(N):\n",
        "        if predict[i] not in clusters:\n",
        "            clusters[predict[i]] = []\n",
        "        \n",
        "        clusters[predict[i]].append(label[i])\n",
        "\n",
        "    tp_fp = 0\n",
        "    tp = 0\n",
        "    fp = 0\n",
        "    tn = 0\n",
        "    fn = 0\n",
        "    for key, value in clusters.items():\n",
        "        tp_fp += comb(len(value), 2)\n",
        "        for key1, value1 in count_of_elements(value).items():\n",
        "            tp += comb(value1, 2)\n",
        "        fp = tp_fp - tp\n",
        "\n",
        "    checked = []\n",
        "\n",
        "    for element in label:\n",
        "        if element not in checked:\n",
        "            fn_temp = comb(10, 2)\n",
        "            for key, value in calc_elements_in_each_cluster(element, label, predict).items():\n",
        "                fn_temp -= comb(value, 2)\n",
        "\n",
        "            fn += fn_temp\n",
        "\n",
        "            checked.append(element)\n",
        "\n",
        "\n",
        "    tn = comb(N, 2) - (fn + tp + fp)\n",
        "    fn = (tp + tn) / comb(N, 2)\n",
        "\n",
        "    ri = (tp + tn) / comb(N, 2)\n",
        "    \n",
        "    return ri"
      ],
      "metadata": {
        "id": "xB2vP5v6StC7"
      },
      "execution_count": 13,
      "outputs": []
    },
    {
      "cell_type": "code",
      "source": [
        "results = []\n",
        "for item in test_comments:\n",
        "  label = np.argmax(item)\n",
        "  if label == 0:\n",
        "    results.append('Chemistry')\n",
        "  elif label == 1:\n",
        "    results.append('Biology')\n",
        "  elif label == 2:\n",
        "    results.append('Physics')\n",
        "    \n",
        "results = np.array(results)\n",
        "\n",
        "acc = randIndex(topics_test, results)\n",
        "print(acc)"
      ],
      "metadata": {
        "colab": {
          "base_uri": "https://localhost:8080/"
        },
        "id": "gMzYA_bepQok",
        "outputId": "73ebe121-d634-4896-b116-37389f72df8d"
      },
      "execution_count": 14,
      "outputs": [
        {
          "output_type": "stream",
          "name": "stdout",
          "text": [
            "0.9277137094688939\n"
          ]
        }
      ]
    }
  ]
}